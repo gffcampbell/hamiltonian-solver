{
  "nbformat": 4,
  "nbformat_minor": 0,
  "metadata": {
    "colab": {
      "name": "Hamiltonian_Solver.ipynb",
      "version": "0.3.2",
      "provenance": [],
      "collapsed_sections": []
    },
    "language_info": {
      "codemirror_mode": {
        "name": "ipython",
        "version": 3
      },
      "file_extension": ".py",
      "mimetype": "text/x-python",
      "name": "python",
      "nbconvert_exporter": "python",
      "pygments_lexer": "ipython3",
      "version": "3.6.7"
    },
    "kernelspec": {
      "display_name": "tf-playground",
      "language": "python",
      "name": "tf-playground"
    }
  },
  "cells": [
    {
      "cell_type": "code",
      "metadata": {
        "id": "7OzjRbhDB8zH",
        "colab_type": "code",
        "colab": {}
      },
      "source": [
        "import numpy as np\n",
        "import matplotlib.pyplot as plt\n",
        "import tensorflow as tf\n",
        "\n",
        "from scipy.integrate import solve_ivp\n",
        "from scipy.interpolate import UnivariateSpline\n",
        "\n",
        "from tensorflow import keras\n",
        "from tensorflow.keras.layers import Input, Dense, Lambda, Reshape\n",
        "from tensorflow.keras.layers import Add, Concatenate\n",
        "from tensorflow.keras.models import Model\n",
        "\n",
        "from time import time"
      ],
      "execution_count": 0,
      "outputs": []
    },
    {
      "cell_type": "markdown",
      "metadata": {
        "id": "ov9Wl3UmB8zS",
        "colab_type": "text"
      },
      "source": [
        "# Building data"
      ]
    },
    {
      "cell_type": "markdown",
      "metadata": {
        "id": "SOVtYKhpB8zU",
        "colab_type": "text"
      },
      "source": [
        "## Equations of motion"
      ]
    },
    {
      "cell_type": "code",
      "metadata": {
        "id": "sExW4dfnB8zX",
        "colab_type": "code",
        "colab": {}
      },
      "source": [
        "k = -1.0\n",
        "gamma = 0.5\n",
        "m = 1\n",
        "\n",
        "n_dims = 1\n",
        "\n",
        "f = lambda x: -(k*x + gamma*x**3)\n",
        "\n",
        "SHO_equations = lambda t, X: [X[1]/m, f(X[0])]"
      ],
      "execution_count": 0,
      "outputs": []
    },
    {
      "cell_type": "markdown",
      "metadata": {
        "id": "uS9Nj1BEB8ze",
        "colab_type": "text"
      },
      "source": [
        "## Dataset construction"
      ]
    },
    {
      "cell_type": "code",
      "metadata": {
        "id": "vryGQ40tARZU",
        "colab_type": "code",
        "colab": {}
      },
      "source": [
        "n_dims = 1\n",
        "time_step = 0.5\n",
        "\n",
        "N_train = 10000\n",
        "\n",
        "X0_train = np.empty([N_train, 2, n_dims], dtype=np.float64)\n",
        "X1_train = np.empty([N_train, 2, n_dims], dtype=np.float64)\n",
        "\n",
        "for i in range(N_train):\n",
        "  sol = solve_ivp(SHO_equations, [0,time_step],\n",
        "                  np.random.normal(0, 2, 2)).y.transpose()\n",
        "  X0_train[i] = np.expand_dims(sol[0], axis=-1)\n",
        "  X1_train[i] = np.expand_dims(sol[-1], axis=-1)"
      ],
      "execution_count": 0,
      "outputs": []
    },
    {
      "cell_type": "markdown",
      "metadata": {
        "id": "fB1tYXWxB8z3",
        "colab_type": "text"
      },
      "source": [
        "# Model Setup"
      ]
    },
    {
      "cell_type": "markdown",
      "metadata": {
        "id": "WeRvO2urB8z4",
        "colab_type": "text"
      },
      "source": [
        "## Potential Network"
      ]
    },
    {
      "cell_type": "code",
      "metadata": {
        "id": "yhGSyCt9B8z5",
        "colab_type": "code",
        "colab": {}
      },
      "source": [
        "def swish(x):\n",
        "    return tf.sigmoid(x) * x\n",
        "\n",
        "def swish_layer(units, reg_scale=0.01, weight_scale = 1.0, shape=None):\n",
        "    k_init = keras.initializers.RandomUniform(minval=-weight_scale,\n",
        "                                              maxval=weight_scale)\n",
        "    \n",
        "    b_init = keras.initializers.RandomUniform(minval=-weight_scale,\n",
        "                                              maxval=weight_scale)\n",
        "    \n",
        "    k_reg = keras.regularizers.l2(reg_scale)\n",
        "    \n",
        "    if shape is not None:\n",
        "        return Dense(units, input_shape=shape,\n",
        "                     activation=swish, \n",
        "                     kernel_regularizer=k_reg,\n",
        "                     kernel_initializer=k_init,\n",
        "                     bias_initializer=b_init)\n",
        "    else:\n",
        "        return Dense(units,\n",
        "                     activation=swish, \n",
        "                     kernel_regularizer=k_reg,\n",
        "                     kernel_initializer=k_init,\n",
        "                     bias_initializer=b_init)\n",
        "\n",
        "    \n",
        "def swish_mlp(input_dim, output_dim, layer_sizes,\n",
        "              reg_scale = 0.01, weight_scale = 1.0):\n",
        "  \n",
        "    mlp = keras.models.Sequential()\n",
        "    mlp.add(swish_layer(layer_sizes[0],\n",
        "                        reg_scale=reg_scale, weight_scale = weight_scale,\n",
        "            shape=(input_dim,)))\n",
        "    \n",
        "    for layer in layer_sizes[1:]:\n",
        "        mlp.add(swish_layer(layer,\n",
        "                reg_scale=reg_scale, weight_scale = weight_scale))\n",
        "        \n",
        "    mlp.add(swish_layer(output_dim,\n",
        "                        reg_scale=reg_scale, weight_scale = weight_scale))\n",
        "    return mlp"
      ],
      "execution_count": 0,
      "outputs": []
    },
    {
      "cell_type": "markdown",
      "metadata": {
        "id": "CAOQLT5EB8z8",
        "colab_type": "text"
      },
      "source": [
        "## Solver Network"
      ]
    },
    {
      "cell_type": "code",
      "metadata": {
        "id": "4DWv7TvdB8z9",
        "colab_type": "code",
        "colab": {}
      },
      "source": [
        "def hamiltonian_time_evolution(n_dims, potential):\n",
        "    X = Input(shape=(2,n_dims,))\n",
        "\n",
        "    Q = Lambda(lambda x: x[:,0])(X)\n",
        "    P = Lambda(lambda x: x[:,1])(X)\n",
        "\n",
        "    T = Lambda(lambda p: tf.reduce_sum((1/(2*m))*p**2))(P)\n",
        "    #V = Lambda(lambda q: tf.reduce_sum((k/2)*q**2 + (gamma/4)*q**4))(Q)\n",
        "    V = potential(Q)\n",
        "\n",
        "    gradients = Lambda(lambda x: tf.gradients(x[0],x[1])[0])\n",
        "\n",
        "    dPdt = Lambda(lambda x: tf.negative(x))(gradients((V,Q)))\n",
        "    dQdt = gradients((T,P))\n",
        "    \n",
        "    dPQdt = Reshape((2,n_dims))(Concatenate(axis=-1)([dQdt,dPdt]))\n",
        "\n",
        "    return Model(inputs=X, outputs=dPQdt)\n",
        "\n",
        "def rk4_step(f, n_dims, time_step):\n",
        "    X0 = Input(shape=(2,n_dims,))\n",
        "\n",
        "    k1 = f(X0)\n",
        "    k2 = f(Add()([X0, Lambda(lambda k: (time_step/2)*k)(k1)]))\n",
        "    k3 = f(Add()([X0, Lambda(lambda k: (time_step/2)*k)(k2)]))\n",
        "    k4 = f(Add()([X0, Lambda(lambda k: time_step*k)(k3)]))\n",
        "    \n",
        "    k5 = Add()([k1,Lambda(lambda k: 2*k)(k2),\n",
        "                Lambda(lambda k: 2*k)(k3),k4])\n",
        "    \n",
        "    X1 = Lambda(lambda k: (time_step/6)*k)(k5)\n",
        "    \n",
        "    return Model(inputs=X0, outputs=X1)\n",
        "\n",
        "def prediction_model(n_dims, f, time_step):\n",
        "    X0 = keras.layers.Input(shape=(2,n_dims,))\n",
        "    \n",
        "    dXdt = hamiltonian_time_evolution(n_dims, f)\n",
        "    dX = rk4_step(dXdt, n_dims, time_step)\n",
        "\n",
        "    return Model(inputs=X0, outputs=Add()([X0, dX(X0)]))"
      ],
      "execution_count": 0,
      "outputs": []
    },
    {
      "cell_type": "markdown",
      "metadata": {
        "id": "MhHauVxXB80B",
        "colab_type": "text"
      },
      "source": [
        "## Complete Model"
      ]
    },
    {
      "cell_type": "code",
      "metadata": {
        "id": "Gk4uzSiuB80C",
        "colab_type": "code",
        "colab": {}
      },
      "source": [
        "prediction_steps = 1\n",
        "Fq = swish_mlp(n_dims, 1, [10,20,20,10],\n",
        "               reg_scale=0.00001, weight_scale = 1.0)\n",
        "\n",
        "model = prediction_model(n_dims, Fq, time_step)\n",
        "\n",
        "model.compile(optimizer=keras.optimizers.Adam(lr=0.001),\n",
        "              loss='mse', metrics=['mse'])"
      ],
      "execution_count": 0,
      "outputs": []
    },
    {
      "cell_type": "code",
      "metadata": {
        "id": "l5vhrbf8B80H",
        "colab_type": "code",
        "outputId": "0fce2113-1e44-442d-d9f2-b7f2663459e8",
        "colab": {
          "base_uri": "https://localhost:8080/",
          "height": 539
        }
      },
      "source": [
        "start = time()\n",
        "result = model.fit(x=X0_train,y=X1_train,\n",
        "                   batch_size=100, epochs=10, shuffle=True, verbose=0)\n",
        "print(time()-start)\n",
        "\n",
        "plt.plot(result.history['loss'])\n",
        "\n",
        "plt.show()\n",
        "\n",
        "q = np.linspace(-3,3,100)\n",
        "q0 = Fq.predict([0])[0,0]\n",
        "plt.plot(q, Fq.predict(q)[:,0]-q0)\n",
        "plt.plot(q, (k*q**2)/2+(gamma*q**4)/4)\n",
        "#plt.plot(q, (k*q)+(gamma*q**3))\n",
        "plt.ylim([-1,3])\n",
        "plt.show()"
      ],
      "execution_count": 0,
      "outputs": [
        {
          "output_type": "stream",
          "text": [
            "9.21188497543335\n"
          ],
          "name": "stdout"
        },
        {
          "output_type": "display_data",
          "data": {
            "image/png": "[encoded data removed]",
            "text/plain": [
              "<Figure size 432x288 with 1 Axes>"
            ]
          },
          "metadata": {
            "tags": []
          }
        },
        {
          "output_type": "display_data",
          "data": {
            "image/png": "[encoded data removed]",
            "text/plain": [
              "<Figure size 432x288 with 1 Axes>"
            ]
          },
          "metadata": {
            "tags": []
          }
        }
      ]
    },
    {
      "cell_type": "code",
      "metadata": {
        "id": "dy3kP7D-B80O",
        "colab_type": "code",
        "outputId": "6e316d16-6b45-4c71-875b-019f2f9c1579",
        "colab": {
          "base_uri": "https://localhost:8080/",
          "height": 305
        }
      },
      "source": [
        "n_points = 50\n",
        "duration = time_step*n_points+1\n",
        "\n",
        "xp = [2.2,0]\n",
        "t = np.linspace(0, duration,n_points+1)\n",
        "X = solve_ivp(SHO_equations, [0,duration], xp, t_eval=t).y.transpose()\n",
        "\n",
        "plt.plot(t, X)\n",
        "\n",
        "prediction = np.empty([n_points,2])\n",
        "\n",
        "xp = np.reshape(np.array(xp), (1,2,1))\n",
        "for i in range(n_points):\n",
        "    xp = model.predict(xp)\n",
        "    prediction[i] = xp[0,0]\n",
        "  \n",
        "plt.plot(np.linspace(time_step, duration, n_points),\n",
        "         prediction, '--k')"
      ],
      "execution_count": 0,
      "outputs": [
        {
          "output_type": "execute_result",
          "data": {
            "text/plain": [
              "[<matplotlib.lines.Line2D at 0x7fc03b96efd0>,\n",
              " <matplotlib.lines.Line2D at 0x7fc03b96eb00>]"
            ]
          },
          "metadata": {
            "tags": []
          },
          "execution_count": 59
        },
        {
          "output_type": "display_data",
          "data": {
            "image/png": "[encoded data removed]",
            "text/plain": [
              "<Figure size 432x288 with 1 Axes>"
            ]
          },
          "metadata": {
            "tags": []
          }
        }
      ]
    },
    {
      "cell_type": "code",
      "metadata": {
        "id": "AWy2tWYlGvDC",
        "colab_type": "code",
        "colab": {}
      },
      "source": [
        ""
      ],
      "execution_count": 0,
      "outputs": []
    }
  ]
}