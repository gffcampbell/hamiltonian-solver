{
 "cells": [
  {
   "cell_type": "code",
   "execution_count": 86,
   "metadata": {
    "colab": {},
    "colab_type": "code",
    "id": "7OzjRbhDB8zH"
   },
   "outputs": [],
   "source": [
    "import numpy as np\n",
    "import matplotlib.pyplot as plt\n",
    "import tensorflow as tf\n",
    "\n",
    "from scipy.integrate import solve_ivp\n",
    "from scipy.interpolate import UnivariateSpline\n",
    "\n",
    "from tensorflow import keras\n",
    "from tensorflow.keras import backend as K\n",
    "from tensorflow.keras.layers import Layer, Input, Dense, Lambda\n",
    "from tensorflow.keras.layers import Add, Concatenate, Reshape, Flatten, Multiply\n",
    "from tensorflow.keras.models import Model\n",
    "from tensorflow.keras.initializers import RandomUniform\n",
    "\n",
    "from time import time"
   ]
  },
  {
   "cell_type": "markdown",
   "metadata": {
    "colab_type": "text",
    "id": "ov9Wl3UmB8zS"
   },
   "source": [
    "# Building data"
   ]
  },
  {
   "cell_type": "markdown",
   "metadata": {
    "colab_type": "text",
    "id": "SOVtYKhpB8zU"
   },
   "source": [
    "## Equations of motion"
   ]
  },
  {
   "cell_type": "code",
   "execution_count": 2,
   "metadata": {
    "colab": {},
    "colab_type": "code",
    "id": "sExW4dfnB8zX"
   },
   "outputs": [],
   "source": [
    "k = -1.0\n",
    "gamma = 0.5\n",
    "m = 1\n",
    "\n",
    "n_dims = 1\n",
    "\n",
    "f = lambda x: -(k*x + gamma*x**3)\n",
    "\n",
    "SHO_equations = lambda t, X: [X[1]/m, f(X[0])]"
   ]
  },
  {
   "cell_type": "markdown",
   "metadata": {
    "colab_type": "text",
    "id": "uS9Nj1BEB8ze"
   },
   "source": [
    "## Dataset construction"
   ]
  },
  {
   "cell_type": "code",
   "execution_count": 3,
   "metadata": {
    "colab": {},
    "colab_type": "code",
    "id": "vryGQ40tARZU"
   },
   "outputs": [],
   "source": [
    "n_dims = 1\n",
    "time_step = 0.5\n",
    "\n",
    "N_train = 10000\n",
    "\n",
    "X0_train = np.empty([N_train, 2, n_dims], dtype=np.float64)\n",
    "X1_train = np.empty([N_train, 2, n_dims], dtype=np.float64)\n",
    "\n",
    "for i in range(N_train):\n",
    "  sol = solve_ivp(SHO_equations, [0,time_step],\n",
    "                  np.random.normal(0, 2, 2)).y.transpose()\n",
    "  X0_train[i] = np.expand_dims(sol[0], axis=-1)\n",
    "  X1_train[i] = np.expand_dims(sol[-1], axis=-1)"
   ]
  },
  {
   "cell_type": "markdown",
   "metadata": {
    "colab_type": "text",
    "id": "fB1tYXWxB8z3"
   },
   "source": [
    "# Model Setup"
   ]
  },
  {
   "cell_type": "markdown",
   "metadata": {
    "colab_type": "text",
    "id": "WeRvO2urB8z4"
   },
   "source": [
    "## Potential Network"
   ]
  },
  {
   "cell_type": "code",
   "execution_count": 158,
   "metadata": {
    "colab": {},
    "colab_type": "code",
    "id": "yhGSyCt9B8z5"
   },
   "outputs": [],
   "source": [
    "class swish_layer(Layer):\n",
    "\n",
    "    def __init__(self, units, w_scale = 1.0, reg_scale=0.0, **kwargs):\n",
    "        self.units = units\n",
    "        self.swish = lambda x: K.sigmoid(x) * x\n",
    "        \n",
    "        self.k_init = RandomUniform(-w_scale, w_scale)\n",
    "        self.b_init = RandomUniform(-w_scale, w_scale)\n",
    "        \n",
    "        self.k_regularizer = keras.regularizers.l2(reg_scale)\n",
    "        self.b_regularizer = keras.regularizers.l2(reg_scale)\n",
    "        \n",
    "        super(swish_layer, self).__init__(**kwargs)\n",
    "\n",
    "    def build(self, input_shape):\n",
    "        self.kernel = self.add_weight(name='kernel', \n",
    "                                      shape=(input_shape[1], self.units),\n",
    "                                      regularizer=self.k_regularizer,\n",
    "                                      initializer=self.k_init)\n",
    "        \n",
    "        self.bias = self.add_weight(name='bias', \n",
    "                                    shape=(self.units,),\n",
    "                                    regularizer=self.b_regularizer,\n",
    "                                    initializer=self.b_init)\n",
    "        \n",
    "        super(swish_layer, self).build(input_shape)\n",
    "\n",
    "    def call(self, x):\n",
    "        output = self.swish(K.dot(x, self.kernel))\n",
    "        output = K.bias_add(output, self.bias)\n",
    "        return self.swish(output)\n",
    "\n",
    "    def compute_output_shape(self, input_shape):\n",
    "        return (input_shape[0], self.output_dim)\n",
    "    \n",
    "def swish_mlp(input_dim, output_dim, layers,\n",
    "              reg_scale = 0.01, weight_scale = 1.0):\n",
    "    \n",
    "    X = [Input(shape=(input_dim,))]\n",
    "    \n",
    "    for i, layer in enumerate(layers):\n",
    "        X += [swish_layer(layer)(X[i])]\n",
    "    \n",
    "    X += [swish_layer(output_dim)(X[i])]\n",
    "    \n",
    "    return Model(inputs=X[0], outputs=X[-1])"
   ]
  },
  {
   "cell_type": "markdown",
   "metadata": {},
   "source": [
    "## Global minimizer (doesn't work)"
   ]
  },
  {
   "cell_type": "code",
   "execution_count": null,
   "metadata": {},
   "outputs": [],
   "source": [
    "class g_layer(Layer):\n",
    "\n",
    "    def __init__(self, output_dim, l_reg, **kwargs):\n",
    "        self.output_dim = output_dim \n",
    "        self.a_regularizer = keras.regularizers.l2(l_reg)\n",
    "        self.b_init = RandomUniform(-0.1, 0.1)\n",
    "        super(g_layer, self).__init__(**kwargs)\n",
    "\n",
    "    def build(self, input_shape):\n",
    "        self.W = self.add_weight(name='kernel', \n",
    "                                 shape=(input_shape[1], self.output_dim),\n",
    "                                 initializer=keras.initializers.glorot_uniform())\n",
    "        \n",
    "        self.b = self.add_weight(name='b', \n",
    "                                 shape=(self.output_dim,),\n",
    "                                 initializer=self.b_init)\n",
    "        \n",
    "        self.a = self.add_weight(name='a', \n",
    "                                 shape=(self.output_dim,),\n",
    "                                 initializer=self.b_init,\n",
    "                                 regularizer=self.a_regularizer)\n",
    "        \n",
    "        super(g_layer, self).build(input_shape)\n",
    "\n",
    "    def call(self, x):\n",
    "        output = K.dot(x, self.W)\n",
    "        output = K.exp(K.bias_add(output, self.b))\n",
    "        return Multiply()([self.a, output])\n",
    "\n",
    "    def compute_output_shape(self, input_shape):\n",
    "        return (input_shape[0], self.output_dim)"
   ]
  },
  {
   "cell_type": "markdown",
   "metadata": {
    "colab_type": "text",
    "id": "CAOQLT5EB8z8"
   },
   "source": [
    "## Solver Network"
   ]
  },
  {
   "cell_type": "code",
   "execution_count": 136,
   "metadata": {
    "colab": {},
    "colab_type": "code",
    "id": "4DWv7TvdB8z9"
   },
   "outputs": [],
   "source": [
    "def hamiltonian_time_evolution(n_dims, potential):\n",
    "    X = Input(shape=(2,n_dims,))\n",
    "\n",
    "    Q = Lambda(lambda x: x[:,0])(X)\n",
    "    P = Lambda(lambda x: x[:,1])(X)\n",
    "\n",
    "    T = Lambda(lambda p: tf.reduce_sum((1/(2*m))*p**2))(P)\n",
    "    #V = Lambda(lambda q: tf.reduce_sum((k/2)*q**2 + (gamma/4)*q**4))(Q)\n",
    "    V = potential(Q)\n",
    "\n",
    "    gradients = Lambda(lambda x: tf.gradients(x[0],x[1])[0])\n",
    "\n",
    "    dPdt = Lambda(lambda x: tf.negative(x))(gradients((V,Q)))\n",
    "    dQdt = gradients((T,P))\n",
    "    \n",
    "    dPQdt = Reshape((2,n_dims))(Concatenate(axis=-1)([dQdt,dPdt]))\n",
    "\n",
    "    return Model(inputs=X, outputs=dPQdt)\n",
    "\n",
    "def rk4_step(f, n_dims, time_step):\n",
    "    X0 = Input(shape=(2,n_dims,))\n",
    "\n",
    "    k1 = f(X0)\n",
    "    k2 = f(Add()([X0, Lambda(lambda k: (time_step/2)*k)(k1)]))\n",
    "    k3 = f(Add()([X0, Lambda(lambda k: (time_step/2)*k)(k2)]))\n",
    "    k4 = f(Add()([X0, Lambda(lambda k: time_step*k)(k3)]))\n",
    "    \n",
    "    k5 = Add()([k1,Lambda(lambda k: 2*k)(k2),\n",
    "                Lambda(lambda k: 2*k)(k3),k4])\n",
    "    \n",
    "    X1 = Lambda(lambda k: (time_step/6)*k)(k5)\n",
    "    \n",
    "    return Model(inputs=X0, outputs=X1)\n",
    "\n",
    "def prediction_model(n_dims, f, time_step):\n",
    "    X0 = keras.layers.Input(shape=(2,n_dims,))\n",
    "    \n",
    "    dXdt = hamiltonian_time_evolution(n_dims, f)\n",
    "    dX = rk4_step(dXdt, n_dims, time_step)\n",
    "\n",
    "    return Model(inputs=X0, outputs=Add()([X0, dX(X0)]))"
   ]
  },
  {
   "cell_type": "markdown",
   "metadata": {
    "colab_type": "text",
    "id": "MhHauVxXB80B"
   },
   "source": [
    "## Complete Model"
   ]
  },
  {
   "cell_type": "code",
   "execution_count": 164,
   "metadata": {
    "colab": {},
    "colab_type": "code",
    "id": "Gk4uzSiuB80C"
   },
   "outputs": [],
   "source": [
    "prediction_steps = 1\n",
    "\n",
    "Fq = swish_mlp(n_dims, 1, [10,20,10],\n",
    "               reg_scale=0.0, weight_scale = 1.0)\n",
    "\n",
    "#X0 = keras.layers.Input(shape=(2, n_dims))\n",
    "#p = prediction_model(n_dims, Fq, time_step)\n",
    "#g = g_layer(n_dims, 1.0)(Flatten()(X0))\n",
    "#model = Model(inputs=X0, outputs=Add()([p(X0), g]))\n",
    "\n",
    "model = prediction_model(n_dims, Fq, time_step)\n",
    "\n",
    "model.compile(optimizer=keras.optimizers.Nadam(lr=0.001),\n",
    "                loss='mse', metrics=['mse'])"
   ]
  },
  {
   "cell_type": "code",
   "execution_count": 166,
   "metadata": {
    "colab": {
     "base_uri": "https://localhost:8080/",
     "height": 539
    },
    "colab_type": "code",
    "id": "l5vhrbf8B80H",
    "outputId": "0fce2113-1e44-442d-d9f2-b7f2663459e8"
   },
   "outputs": [
    {
     "name": "stdout",
     "output_type": "stream",
     "text": [
      "8.782206773757935\n"
     ]
    },
    {
     "data": {
      "image/png": "[encoded data removed]",
      "text/plain": [
       "<Figure size 432x288 with 1 Axes>"
      ]
     },
     "metadata": {},
     "output_type": "display_data"
    },
    {
     "data": {
      "image/png": "[encoded data removed]",
      "text/plain": [
       "<Figure size 432x288 with 1 Axes>"
      ]
     },
     "metadata": {},
     "output_type": "display_data"
    }
   ],
   "source": [
    "start = time()\n",
    "result = model.fit(x=X0_train,y=X1_train,\n",
    "                     batch_size=1000, epochs=100, shuffle=True, verbose=0)\n",
    "print(time()-start)\n",
    "\n",
    "plt.plot(result.history['loss'])\n",
    "\n",
    "plt.show()\n",
    "\n",
    "q = np.linspace(-3,3,100)\n",
    "q0 = Fq.predict([0])[0,0]\n",
    "plt.plot(q, Fq.predict(q)[:,0]-q0)\n",
    "plt.plot(q, (k*q**2)/2+(gamma*q**4)/4)\n",
    "plt.ylim([-1,3])\n",
    "plt.show()"
   ]
  },
  {
   "cell_type": "code",
   "execution_count": 167,
   "metadata": {
    "colab": {
     "base_uri": "https://localhost:8080/",
     "height": 305
    },
    "colab_type": "code",
    "id": "dy3kP7D-B80O",
    "outputId": "6e316d16-6b45-4c71-875b-019f2f9c1579"
   },
   "outputs": [
    {
     "data": {
      "text/plain": [
       "[<matplotlib.lines.Line2D at 0x7ef82411b400>,\n",
       " <matplotlib.lines.Line2D at 0x7ef84cf94390>]"
      ]
     },
     "execution_count": 167,
     "metadata": {},
     "output_type": "execute_result"
    },
    {
     "data": {
      "image/png": "[encoded data removed]",
      "text/plain": [
       "<Figure size 432x288 with 1 Axes>"
      ]
     },
     "metadata": {},
     "output_type": "display_data"
    }
   ],
   "source": [
    "n_points = 50\n",
    "duration = time_step*n_points+1\n",
    "\n",
    "xp = [2.2,0]\n",
    "t = np.linspace(0, duration,n_points+1)\n",
    "X = solve_ivp(SHO_equations, [0,duration], xp, t_eval=t).y.transpose()\n",
    "\n",
    "plt.plot(t, X)\n",
    "\n",
    "prediction = np.empty([n_points,2])\n",
    "\n",
    "xp = np.reshape(np.array(xp), (1,2,1))\n",
    "for i in range(n_points):\n",
    "    xp = model.predict(xp)\n",
    "    prediction[i] = xp[0,0]\n",
    "  \n",
    "plt.plot(np.linspace(time_step, duration, n_points),\n",
    "         prediction, '--k')"
   ]
  },
  {
   "cell_type": "code",
   "execution_count": 0,
   "metadata": {
    "colab": {},
    "colab_type": "code",
    "id": "AWy2tWYlGvDC"
   },
   "outputs": [],
   "source": []
  }
 ],
 "metadata": {
  "colab": {
   "collapsed_sections": [],
   "name": "Hamiltonian_Solver.ipynb",
   "provenance": [],
   "version": "0.3.2"
  },
  "kernelspec": {
   "display_name": "Python 3",
   "language": "python",
   "name": "python3"
  },
  "language_info": {
   "codemirror_mode": {
    "name": "ipython",
    "version": 3
   },
   "file_extension": ".py",
   "mimetype": "text/x-python",
   "name": "python",
   "nbconvert_exporter": "python",
   "pygments_lexer": "ipython3",
   "version": "3.6.8"
  }
 },
 "nbformat": 4,
 "nbformat_minor": 1
}
