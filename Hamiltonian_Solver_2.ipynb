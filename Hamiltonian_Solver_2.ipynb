{
 "cells": [
  {
   "cell_type": "code",
   "execution_count": 156,
   "metadata": {},
   "outputs": [],
   "source": [
    "import numpy as np\n",
    "from scipy.integrate import solve_ivp\n",
    "import matplotlib.pyplot as plt\n",
    "\n",
    "import tensorflow as tf\n",
    "from tensorflow import keras\n",
    "from tensorflow.keras import backend as K\n",
    "from tensorflow.keras.layers import Layer, Input, Dense, Lambda\n",
    "from tensorflow.keras.layers import Add, Concatenate, Reshape, Flatten, Multiply\n",
    "from tensorflow.keras.models import Model"
   ]
  },
  {
   "cell_type": "markdown",
   "metadata": {},
   "source": [
    "## Equations of motion"
   ]
  },
  {
   "cell_type": "code",
   "execution_count": 157,
   "metadata": {},
   "outputs": [],
   "source": [
    "k = 1.0\n",
    "gamma = 0.0\n",
    "m = 1\n",
    "\n",
    "f = lambda x: -(k*x + gamma*x**3)\n",
    "SHO_equations = lambda t, X: [X[1]/m, f(X[0])]"
   ]
  },
  {
   "cell_type": "markdown",
   "metadata": {},
   "source": [
    "## Dataset construction"
   ]
  },
  {
   "cell_type": "markdown",
   "metadata": {},
   "source": [
    "## RK4 Solver"
   ]
  },
  {
   "cell_type": "code",
   "execution_count": 158,
   "metadata": {},
   "outputs": [],
   "source": [
    "def rk4_step(dX_dt, n_params):\n",
    "    \n",
    "    in_tensor = Input(shape=(n_params+1,))\n",
    "    \n",
    "    h  = Lambda(lambda x: x[:,0]) (in_tensor) \n",
    "    X0 = Lambda(lambda x: x[:,1:])(in_tensor)\n",
    "    \n",
    "    k1 = dX_dt(X0)\n",
    "    k2 = dX_dt(Add()([X0, Lambda(lambda k: (h/2)*k)(k1)]))\n",
    "    k3 = dX_dt(Add()([X0, Lambda(lambda k: (h/2)*k)(k2)]))\n",
    "    k4 = dX_dt(Add()([X0, Lambda(lambda k: h*k)(k3)]))\n",
    "    \n",
    "    k5 = Add()([k1,Lambda(lambda k: 2*k)(k2),\n",
    "                Lambda(lambda k: 2*k)(k3),k4])\n",
    "    \n",
    "    dX = Lambda(lambda k: (h/6)*k)(k5)\n",
    "    \n",
    "    X1 = Add()([X0, dX])\n",
    "    \n",
    "    out_tensor = Concatenate()([Reshape((1,))(h), X1])\n",
    "    \n",
    "    return Model(inputs=in_tensor, outputs=out_tensor)"
   ]
  },
  {
   "cell_type": "code",
   "execution_count": null,
   "metadata": {},
   "outputs": [],
   "source": [
    "\n",
    "    "
   ]
  },
  {
   "cell_type": "code",
   "execution_count": 159,
   "metadata": {},
   "outputs": [],
   "source": [
    "def hamiltonian_time_evolution(n_dims):\n",
    "    X = Input(shape=(2*n_dims,))\n",
    "\n",
    "    Q = Lambda(lambda x: x[:,0:n_dims])(X)\n",
    "    P = Lambda(lambda x: x[:,n_dims:2*n_dims])(X)\n",
    "\n",
    "    T = Lambda(lambda p: (1/(2*m))*p**2)(P)\n",
    "    V = Lambda(lambda q: (k/2)*q**2 + (gamma/4)*q**4)(Q)\n",
    "    #V = potential(Q)\n",
    "    \n",
    "    H = Add()([T, V])\n",
    "    \n",
    "    grad = Lambda(lambda x: tf.gradients(x[0],x[1]))([H,[P,Q]])\n",
    "    \n",
    "    dPQdt = Concatenate()([grad[0], -grad[1]])\n",
    "\n",
    "    return Model(inputs=X, outputs=dPQdt)"
   ]
  },
  {
   "cell_type": "code",
   "execution_count": 160,
   "metadata": {},
   "outputs": [],
   "source": [
    "n_dims = 1\n",
    "\n",
    "dX_dt = hamiltonian_time_evolution(n_dims)\n",
    "model = rk4_step(dX_dt, 2*n_dims)"
   ]
  },
  {
   "cell_type": "code",
   "execution_count": 161,
   "metadata": {},
   "outputs": [
    {
     "data": {
      "text/plain": [
       "[<matplotlib.lines.Line2D at 0x7faaecf52828>,\n",
       " <matplotlib.lines.Line2D at 0x7faaecf52978>]"
      ]
     },
     "execution_count": 161,
     "metadata": {},
     "output_type": "execute_result"
    },
    {
     "data": {
      "image/png": "[encoded data removed]",
      "text/plain": [
       "<Figure size 432x288 with 1 Axes>"
      ]
     },
     "metadata": {},
     "output_type": "display_data"
    }
   ],
   "source": [
    "xp = np.insert(np.random.randn(2*n_dims), 0, 0.1).reshape((1,1+2*n_dims))\n",
    "x = []\n",
    "\n",
    "for i in range (100):\n",
    "    x += [xp[0][1:]]\n",
    "    xp = model.predict([xp])\n",
    "    \n",
    "plt.plot(np.array(x))"
   ]
  },
  {
   "cell_type": "code",
   "execution_count": null,
   "metadata": {},
   "outputs": [],
   "source": []
  }
 ],
 "metadata": {
  "kernelspec": {
   "display_name": "tf-playground",
   "language": "python",
   "name": "tf-playground"
  },
  "language_info": {
   "codemirror_mode": {
    "name": "ipython",
    "version": 3
   },
   "file_extension": ".py",
   "mimetype": "text/x-python",
   "name": "python",
   "nbconvert_exporter": "python",
   "pygments_lexer": "ipython3",
   "version": "3.6.7"
  }
 },
 "nbformat": 4,
 "nbformat_minor": 2
}
